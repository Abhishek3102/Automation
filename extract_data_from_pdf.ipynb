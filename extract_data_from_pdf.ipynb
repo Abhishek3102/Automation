{
 "cells": [
  {
   "cell_type": "code",
   "execution_count": 2,
   "metadata": {},
   "outputs": [
    {
     "name": "stdout",
     "output_type": "stream",
     "text": [
      "Requirement already satisfied: ghostscript in c:\\python312\\lib\\site-packages (0.7)\n",
      "Requirement already satisfied: setuptools>=38.6.0 in c:\\python312\\lib\\site-packages (from ghostscript) (70.0.0)\n",
      "Note: you may need to restart the kernel to use updated packages.\n"
     ]
    },
    {
     "name": "stderr",
     "output_type": "stream",
     "text": [
      "DEPRECATION: Loading egg at c:\\users\\abhishek\\appdata\\roaming\\python\\python312\\site-packages\\ignorant-1.2-py3.12.egg is deprecated. pip 24.3 will enforce this behaviour change. A possible replacement is to use pip for package installation. Discussion can be found at https://github.com/pypa/pip/issues/12330\n",
      "DEPRECATION: Loading egg at c:\\users\\abhishek\\appdata\\roaming\\python\\python312\\site-packages\\toutatis-1.31-py3.12.egg is deprecated. pip 24.3 will enforce this behaviour change. A possible replacement is to use pip for package installation. Discussion can be found at https://github.com/pypa/pip/issues/12330\n",
      "WARNING: Ignoring invalid distribution ~ (c:\\Python312\\Lib\\site-packages)\n",
      "WARNING: Ignoring invalid distribution ~ip (c:\\Python312\\Lib\\site-packages)\n",
      "WARNING: Ignoring invalid distribution ~~p (c:\\Python312\\Lib\\site-packages)\n",
      "DEPRECATION: Loading egg at c:\\python312\\lib\\site-packages\\ignorant-1.2-py3.12.egg is deprecated. pip 24.3 will enforce this behaviour change. A possible replacement is to use pip for package installation. Discussion can be found at https://github.com/pypa/pip/issues/12330\n",
      "DEPRECATION: Loading egg at c:\\python312\\lib\\site-packages\\toutatis-1.31-py3.12.egg is deprecated. pip 24.3 will enforce this behaviour change. A possible replacement is to use pip for package installation. Discussion can be found at https://github.com/pypa/pip/issues/12330\n",
      "WARNING: Ignoring invalid distribution ~ (c:\\Python312\\Lib\\site-packages)\n",
      "WARNING: Ignoring invalid distribution ~ip (c:\\Python312\\Lib\\site-packages)\n",
      "WARNING: Ignoring invalid distribution ~~p (c:\\Python312\\Lib\\site-packages)\n",
      "WARNING: Ignoring invalid distribution ~ (c:\\Python312\\Lib\\site-packages)\n",
      "WARNING: Ignoring invalid distribution ~ip (c:\\Python312\\Lib\\site-packages)\n",
      "WARNING: Ignoring invalid distribution ~~p (c:\\Python312\\Lib\\site-packages)\n"
     ]
    }
   ],
   "source": [
    "%pip install ghostscript"
   ]
  },
  {
   "cell_type": "code",
   "execution_count": 4,
   "metadata": {},
   "outputs": [
    {
     "name": "stdout",
     "output_type": "stream",
     "text": [
      "<TableList n=2>\n"
     ]
    },
    {
     "name": "stderr",
     "output_type": "stream",
     "text": [
      "C:\\Users\\Abhishek\\AppData\\Roaming\\Python\\Python312\\site-packages\\camelot\\utils.py:740: UserWarning:   (512.26, 515.26) does not lie in column range (101.13961305925031, 511.5768802902056)\n",
      "  warnings.warn(\n"
     ]
    }
   ],
   "source": [
    "import camelot\n",
    "tables = camelot.read_pdf(\"HYDRO2017.PDF\", pages='10')\n",
    "print(tables)"
   ]
  },
  {
   "cell_type": "code",
   "execution_count": 8,
   "metadata": {},
   "outputs": [],
   "source": [
    "tables.export(\"Table.csv\", f='csv', compress=True)\n",
    "tables[0].to_csv(\"Table1.csv\")\n",
    "tables[1].to_csv(\"Table2.csv\")"
   ]
  },
  {
   "cell_type": "code",
   "execution_count": 9,
   "metadata": {},
   "outputs": [
    {
     "data": {
      "text/html": [
       "<div>\n",
       "<style scoped>\n",
       "    .dataframe tbody tr th:only-of-type {\n",
       "        vertical-align: middle;\n",
       "    }\n",
       "\n",
       "    .dataframe tbody tr th {\n",
       "        vertical-align: top;\n",
       "    }\n",
       "\n",
       "    .dataframe thead th {\n",
       "        text-align: right;\n",
       "    }\n",
       "</style>\n",
       "<table border=\"1\" class=\"dataframe\">\n",
       "  <thead>\n",
       "    <tr style=\"text-align: right;\">\n",
       "      <th></th>\n",
       "      <th>Variables</th>\n",
       "      <th>Rainfall (mm)</th>\n",
       "      <th>Unnamed: 2</th>\n",
       "      <th>Unnamed: 3</th>\n",
       "      <th>Unnamed: 4</th>\n",
       "      <th>Unnamed: 5</th>\n",
       "      <th>Unnamed: 6</th>\n",
       "      <th>Unnamed: 7</th>\n",
       "      <th>Unnamed: 8</th>\n",
       "      <th>Unnamed: 9</th>\n",
       "      <th>Unnamed: 10</th>\n",
       "      <th>Unnamed: 11</th>\n",
       "      <th>Unnamed: 12</th>\n",
       "    </tr>\n",
       "  </thead>\n",
       "  <tbody>\n",
       "    <tr>\n",
       "      <th>0</th>\n",
       "      <td>Scenarios</td>\n",
       "      <td>RCP2.6</td>\n",
       "      <td>NaN</td>\n",
       "      <td>NaN</td>\n",
       "      <td>NaN</td>\n",
       "      <td>RCP4.5</td>\n",
       "      <td>NaN</td>\n",
       "      <td>NaN</td>\n",
       "      <td>NaN</td>\n",
       "      <td>RCP8.5</td>\n",
       "      <td>NaN</td>\n",
       "      <td>NaN</td>\n",
       "      <td>NaN</td>\n",
       "    </tr>\n",
       "    <tr>\n",
       "      <th>1</th>\n",
       "      <td>Test</td>\n",
       "      <td>Mann \\nKendalls</td>\n",
       "      <td>NaN</td>\n",
       "      <td>Sen‘s Slope</td>\n",
       "      <td>NaN</td>\n",
       "      <td>Mann \\nKendalls</td>\n",
       "      <td>NaN</td>\n",
       "      <td>Sen‘s Slope</td>\n",
       "      <td>NaN</td>\n",
       "      <td>Mann \\nKendalls</td>\n",
       "      <td>NaN</td>\n",
       "      <td>Sen‘s Slope</td>\n",
       "      <td>NaN</td>\n",
       "    </tr>\n",
       "    <tr>\n",
       "      <th>2</th>\n",
       "      <td>Time \\nSeries</td>\n",
       "      <td>Zcal</td>\n",
       "      <td>NaN</td>\n",
       "      <td>Trend    Qmed</td>\n",
       "      <td>Trend</td>\n",
       "      <td>Zcal</td>\n",
       "      <td>Trend    Qmed</td>\n",
       "      <td>NaN</td>\n",
       "      <td>Trend</td>\n",
       "      <td>Zcal</td>\n",
       "      <td>NaN</td>\n",
       "      <td>Trend    Qmed</td>\n",
       "      <td>Trend</td>\n",
       "    </tr>\n",
       "    <tr>\n",
       "      <th>3</th>\n",
       "      <td>January</td>\n",
       "      <td>0.00</td>\n",
       "      <td>o</td>\n",
       "      <td>0.00</td>\n",
       "      <td>o</td>\n",
       "      <td>0.00</td>\n",
       "      <td>o</td>\n",
       "      <td>0.00</td>\n",
       "      <td>o</td>\n",
       "      <td>0.00</td>\n",
       "      <td>o</td>\n",
       "      <td>0.00</td>\n",
       "      <td>o</td>\n",
       "    </tr>\n",
       "    <tr>\n",
       "      <th>4</th>\n",
       "      <td>February</td>\n",
       "      <td>0.00</td>\n",
       "      <td>o</td>\n",
       "      <td>0.00</td>\n",
       "      <td>o</td>\n",
       "      <td>0.00</td>\n",
       "      <td>o</td>\n",
       "      <td>0.00</td>\n",
       "      <td>o</td>\n",
       "      <td>0.00</td>\n",
       "      <td>o</td>\n",
       "      <td>0.00</td>\n",
       "      <td>o</td>\n",
       "    </tr>\n",
       "  </tbody>\n",
       "</table>\n",
       "</div>"
      ],
      "text/plain": [
       "       Variables    Rainfall (mm) Unnamed: 2     Unnamed: 3 Unnamed: 4  \\\n",
       "0      Scenarios           RCP2.6        NaN            NaN        NaN   \n",
       "1           Test  Mann \\nKendalls        NaN    Sen‘s Slope        NaN   \n",
       "2  Time \\nSeries             Zcal        NaN  Trend    Qmed      Trend   \n",
       "3        January             0.00          o           0.00          o   \n",
       "4       February             0.00          o           0.00          o   \n",
       "\n",
       "        Unnamed: 5     Unnamed: 6   Unnamed: 7 Unnamed: 8       Unnamed: 9  \\\n",
       "0           RCP4.5            NaN          NaN        NaN           RCP8.5   \n",
       "1  Mann \\nKendalls            NaN  Sen‘s Slope        NaN  Mann \\nKendalls   \n",
       "2             Zcal  Trend    Qmed          NaN      Trend             Zcal   \n",
       "3             0.00              o         0.00          o             0.00   \n",
       "4             0.00              o         0.00          o             0.00   \n",
       "\n",
       "  Unnamed: 10    Unnamed: 11 Unnamed: 12  \n",
       "0         NaN            NaN         NaN  \n",
       "1         NaN    Sen‘s Slope         NaN  \n",
       "2         NaN  Trend    Qmed       Trend  \n",
       "3           o           0.00           o  \n",
       "4           o           0.00           o  "
      ]
     },
     "execution_count": 9,
     "metadata": {},
     "output_type": "execute_result"
    }
   ],
   "source": [
    "import pandas as pd\n",
    "df = pd.read_csv(\"Table2.csv\")\n",
    "df.head()"
   ]
  },
  {
   "cell_type": "code",
   "execution_count": null,
   "metadata": {},
   "outputs": [],
   "source": []
  }
 ],
 "metadata": {
  "kernelspec": {
   "display_name": "Python 3",
   "language": "python",
   "name": "python3"
  },
  "language_info": {
   "codemirror_mode": {
    "name": "ipython",
    "version": 3
   },
   "file_extension": ".py",
   "mimetype": "text/x-python",
   "name": "python",
   "nbconvert_exporter": "python",
   "pygments_lexer": "ipython3",
   "version": "3.12.1"
  }
 },
 "nbformat": 4,
 "nbformat_minor": 2
}
